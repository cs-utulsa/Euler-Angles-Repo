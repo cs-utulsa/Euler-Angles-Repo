{
 "cells": [
  {
   "cell_type": "markdown",
   "metadata": {},
   "source": [
    "Quaternion to Euler Angles Conversion Tests"
   ]
  },
  {
   "cell_type": "code",
   "execution_count": 4,
   "metadata": {},
   "outputs": [
    {
     "name": "stdout",
     "output_type": "stream",
     "text": [
      "Collecting scipy\n",
      "  Downloading scipy-1.10.0-cp39-cp39-macosx_10_15_x86_64.whl (35.2 MB)\n",
      "\u001b[K     |████████████████████████████████| 35.2 MB 380 kB/s eta 0:00:012   |██                              | 2.3 MB 8.6 MB/s eta 0:00:04     |██████▉                         | 7.5 MB 8.6 MB/s eta 0:00:04     |███████████                     | 12.1 MB 11.2 MB/s eta 0:00:03     |████████████████▎               | 17.9 MB 11.2 MB/s eta 0:00:02\n",
      "\u001b[?25hCollecting numpy<1.27.0,>=1.19.5\n",
      "  Downloading numpy-1.24.1-cp39-cp39-macosx_10_9_x86_64.whl (19.8 MB)\n",
      "\u001b[K     |████████████████████████████████| 19.8 MB 10.2 MB/s eta 0:00:01�████▏ | 18.7 MB 10.2 MB/s eta 0:00:01\n",
      "\u001b[?25hInstalling collected packages: numpy, scipy\n",
      "Successfully installed numpy-1.24.1 scipy-1.10.0\n",
      "\u001b[33mWARNING: You are using pip version 21.1.1; however, version 22.3.1 is available.\n",
      "You should consider upgrading via the '/usr/local/bin/python3 -m pip install --upgrade pip' command.\u001b[0m\n"
     ]
    }
   ],
   "source": [
    "#Import Necessary Libraries\n",
    "import sys\n",
    "!{sys.executable} -m pip install scipy\n",
    "from scipy.spatial.transform import Rotation as R\n",
    "import numpy as np\n",
    "import random\n",
    "import math"
   ]
  },
  {
   "cell_type": "markdown",
   "metadata": {},
   "source": [
    "Rotation Method"
   ]
  },
  {
   "cell_type": "code",
   "execution_count": 65,
   "metadata": {},
   "outputs": [],
   "source": [
    "def euler_to_quaternion(method, x, y, z):\n",
    "    rotation = R.from_euler(method, [x,y,z], degrees=False)\n",
    "    quaternion = rotation.as_quat()\n",
    "    return quaternion\n",
    "\n",
    "def quaternion_to_euler(method, quat):\n",
    "    rotation = R.from_quat(quat)\n",
    "    euler_angles = rotation.as_euler(method, degrees=False)\n",
    "    return euler_angles\n",
    "\n"
   ]
  },
  {
   "cell_type": "markdown",
   "metadata": {},
   "source": [
    "XYZ Rotation Testing"
   ]
  },
  {
   "cell_type": "code",
   "execution_count": 68,
   "metadata": {},
   "outputs": [
    {
     "name": "stdout",
     "output_type": "stream",
     "text": [
      "Original Euler angles: \n",
      "-0.23635666142074108 2.457809481713155 0.034582490810971755\n",
      "Associated Quaternion ([vector, scalar])\n",
      "[-0.05569959  0.93472758  0.11681935  0.33096093]\n",
      "\n",
      "\n",
      "Conversion back to Euler angles: \n",
      "[ 2.90523599  0.68378317 -3.10701016]\n"
     ]
    }
   ],
   "source": [
    "x = random.uniform(-(math.pi), (math.pi))\n",
    "y = random.uniform(-(math.pi), (math.pi))\n",
    "z = random.uniform(-(math.pi), (math.pi))\n",
    "quaternion = euler_to_quaternion('xyz', x, y, z)\n",
    "\n",
    "print('Original Euler angles: ')\n",
    "print(x, y, z)\n",
    "print('Associated Quaternion ([vector, scalar])')\n",
    "print(quaternion)\n",
    "print('\\n')\n",
    "\n",
    "print('Conversion back to Euler angles: ')\n",
    "print(quaternion_to_euler('xyz', quaternion))\n",
    "\n",
    "\n"
   ]
  },
  {
   "cell_type": "markdown",
   "metadata": {},
   "source": [
    "ZYX Rotation Testing"
   ]
  },
  {
   "cell_type": "code",
   "execution_count": 74,
   "metadata": {},
   "outputs": [
    {
     "name": "stdout",
     "output_type": "stream",
     "text": [
      "Original Euler angles: \n",
      "1.6889840050393774 -0.8795492711911068 -1.1354701293215448\n",
      "Associated Quaternion ([vector, scalar])\n",
      "[-0.59148931  0.12538687  0.72240067  0.33549338]\n",
      "\n",
      "\n",
      "Conversion back to Euler angles: \n",
      "[ 1.68898401 -0.87954927 -1.13547013]\n"
     ]
    }
   ],
   "source": [
    "x = random.uniform(-(math.pi), (math.pi))\n",
    "y = random.uniform(-(math.pi), (math.pi))\n",
    "z = random.uniform(-(math.pi), (math.pi))\n",
    "quaternion = euler_to_quaternion('zyx', x, y, z)\n",
    "\n",
    "print('Original Euler angles: ')\n",
    "print(x, y, z)\n",
    "print('Associated Quaternion ([vector, scalar])')\n",
    "print(quaternion)\n",
    "print('\\n')\n",
    "\n",
    "print('Conversion back to Euler angles: ')\n",
    "print(quaternion_to_euler('zyx', quaternion))"
   ]
  },
  {
   "cell_type": "markdown",
   "metadata": {},
   "source": [
    "Manual Conversion Based on NASA Article"
   ]
  },
  {
   "cell_type": "code",
   "execution_count": 92,
   "metadata": {},
   "outputs": [],
   "source": [
    "def e_to_q(method, x, y, z):\n",
    "\n",
    "    if method == 'xyz':\n",
    "\n",
    "        r = math.cos(x*0.5)*math.cos(y*0.5)*math.cos(z*0.5)-math.sin(x*0.5)*math.sin(y*0.5)*math.sin(z*0.5)\n",
    "        v1 = math.sin(x*0.5)*math.cos(y*0.5)*math.cos(z*0.5)+math.cos(x*0.5)*math.sin(y*0.5)*math.sin(z*0.5)\n",
    "        v2 = math.cos(x*0.5)*math.sin(y*0.5)*math.cos(z*0.5)-math.sin(x*0.5)*math.cos(y*0.5)*math.sin(z*0.5)\n",
    "        v3 = math.cos(x*0.5)*math.cos(y*0.5)*math.sin(z*0.5)+math.sin(x*0.5)*math.sin(y*0.5)*math.cos(z*0.5)\n",
    "\n",
    "        return [v1, v2, v3, r]\n",
    "\n",
    "    elif method == 'zyx':\n",
    "\n",
    "        r = math.sin(x*0.5)*math.sin(y*0.5)*math.sin(z*0.5)+math.cos(x*0.5)*math.cos(y*0.5)*math.cos(z*0.5)\n",
    "        v1 = math.sin(x*0.5)*math.cos(y*0.5)*math.cos(z*0.5)-math.cos(x*0.5)*math.sin(y*0.5)*math.sin(z*0.5)\n",
    "        v2 = math.sin(x*0.5)*math.cos(y*0.5)*math.sin(z*0.5)+math.cos(x*0.5)*math.sin(y*0.5)*math.cos(z*0.5)\n",
    "        v3 = math.cos(x*0.5)*math.cos(y*0.5)*math.sin(z*0.5)-math.sin(x*0.5)*math.sin(y*0.5)*math.cos(z*0.5)\n",
    "\n",
    "        return [v1, v2, v3, r]\n",
    "\n",
    "    elif method == 'xzy':\n",
    "\n",
    "        r = math.sin(x*0.5)*math.sin(y*0.5)*math.sin(z*0.5)+math.cos(x*0.5)*math.cos(y*0.5)*math.cos(z*0.5)\n",
    "        v1 = math.sin(x*0.5)*math.cos(y*0.5)*math.cos(z*0.5)-math.cos(x*0.5)*math.sin(y*0.5)*math.sin(z*0.5)\n",
    "        v2 = math.cos(x*0.5)*math.sin(y*0.5)*math.cos(z*0.5)-math.sin(x*0.5)*math.cos(y*0.5)*math.sin(z*0.5)\n",
    "        v3 = math.sin(x*0.5)*math.sin(y*0.5)*math.cos(z*0.5)+math.cos(x*0.5)*math.cos(y*0.5)*math.sin(z*0.5)\n",
    "\n",
    "        return [v1, v2, v3, r]\n",
    "\n",
    "    else:\n",
    "        return 'Error'\n",
    "\n",
    "\n",
    "def q_to_e(method, quat):\n",
    "\n",
    "    v1 = quat[0]\n",
    "    v2 = quat[1]\n",
    "    v3 = quat[2]\n",
    "    r = quat[3]\n",
    "\n",
    "    if method == 'xyz':\n",
    "\n",
    "        return True\n",
    "\n",
    "    elif method == 'zyx':\n",
    "        \n",
    "        return True\n",
    "    else:\n",
    "        return 'Error'\n",
    "\n",
    "    return false"
   ]
  },
  {
   "cell_type": "markdown",
   "metadata": {},
   "source": [
    "Comparison of Two Methods \n",
    "Findings: \n",
    "SciPy \"XYZ\" = NASA \"ZYX\"\n",
    "SciPy \"ZYX\" ?= NASA \"XYZ\" (The results of 2 vector components were swapped? Does this matter??)\n",
    "SciPy \"XZY\" ?= NASA...\n",
    "\n",
    "Need to check for conversion back. "
   ]
  },
  {
   "cell_type": "code",
   "execution_count": 107,
   "metadata": {},
   "outputs": [
    {
     "name": "stdout",
     "output_type": "stream",
     "text": [
      "Original Euler angles: \n",
      "1.1657864976338495 2.5819550477214133 2.2368717544131647\n",
      "SciPy Associated Quaternion ([vector, scalar])\n",
      "[-0.65524715  0.48745268 -0.02384998  0.57660405]\n",
      "Manually Calculated Quaternion ([vector, scalar])\n",
      "[-0.6552471499416721, 0.48745268261442687, -0.023849978975637648, 0.576604052368847]\n"
     ]
    }
   ],
   "source": [
    "x0 = random.uniform(-(math.pi), (math.pi))\n",
    "y0 = random.uniform(-(math.pi), (math.pi))\n",
    "z0 = random.uniform(-(math.pi), (math.pi))\n",
    "# SciPy rotation\n",
    "quaternion1 = euler_to_quaternion('xyz', x0, y0, z0)\n",
    "# Manual rotation\n",
    "quaternion2 = e_to_q('zyx', x0, y0, z0)\n",
    "print('Original Euler angles: ')\n",
    "print(x0, y0, z0)\n",
    "print('SciPy Associated Quaternion ([vector, scalar])')\n",
    "print(quaternion1)\n",
    "print('Manually Calculated Quaternion ([vector, scalar])')\n",
    "print(quaternion2)"
   ]
  }
 ],
 "metadata": {
  "kernelspec": {
   "display_name": "Python 3.9.5 64-bit",
   "language": "python",
   "name": "python3"
  },
  "language_info": {
   "codemirror_mode": {
    "name": "ipython",
    "version": 3
   },
   "file_extension": ".py",
   "mimetype": "text/x-python",
   "name": "python",
   "nbconvert_exporter": "python",
   "pygments_lexer": "ipython3",
   "version": "3.9.5"
  },
  "orig_nbformat": 4,
  "vscode": {
   "interpreter": {
    "hash": "aee8b7b246df8f9039afb4144a1f6fd8d2ca17a180786b69acc140d282b71a49"
   }
  }
 },
 "nbformat": 4,
 "nbformat_minor": 2
}
